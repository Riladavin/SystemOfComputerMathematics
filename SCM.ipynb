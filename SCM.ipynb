{
 "cells": [
  {
   "cell_type": "markdown",
   "metadata": {},
   "source": [
    "## Хлюстов И.А. 381908-1\n",
    "\n",
    "\n",
    "## 24. Разделимые наименьшие квадраты\n",
    "\n",
    "[Каханер–Моулер–Нэш] \n",
    "\n",
    "Пусть необходимо аппроксимировать $m$ точек данных $(t_i,\\, y_i)$ $(i=1,2,\\dots,m)$ с помощью функции\n",
    "$$\n",
    "   b(t) = c_1 + c_2 t + c_3 t^2 + c_4 e^{\\lambda t}.\n",
    "$$\n",
    "Параметры $c_1,\\dots,c_4$ входят линейно, а $\\lambda$ нелинейно.\n",
    "Рассмотрим матрицу\n",
    "$$\n",
    "A(\\lambda) =\n",
    "\\left(\n",
    "\\begin{array}{cccc}\n",
    "    1 & t_1 & t_1^2 & e^{\\lambda t_1}  \\\\\n",
    "    1 & t_2 & t_2^2 & e^{\\lambda t_2}  \\\\\n",
    "    \\vdots & \\vdots & \\vdots & \\vdots  \\\\\n",
    "    1 & t_m & t_m^2 & e^{\\lambda t_m}  \\\\\n",
    "\\end{array}\n",
    "\\right)\n",
    "$$\n",
    "и векторы\n",
    "$$\n",
    "y = \n",
    "\\left(\n",
    "\\begin{array}{c}\n",
    "   y_1 \\\\ y_2 \\\\ \\vdots \\\\ y_m\n",
    "\\end{array}\n",
    "\\right),\n",
    "\\qquad\n",
    "c = \n",
    "\\left(\n",
    "\\begin{array}{c}\n",
    "   c_1 \\\\ c_2 \\\\ c_3\\\\ c_4\n",
    "\\end{array}\n",
    "\\right).\n",
    "$$\n",
    "Тогда задачу наименьших квадратов можно поставить следующим образом:\n",
    "$$\n",
    "\\min_{\\lambda}  \\min_{c}  \\|A(\\lambda) c - y\\|_2.\n",
    "$$\n",
    "Для любого заданного $\\lambda$ внутренний минимум можно найти линейным методом наименьших квадратов.\n",
    "Для нахождения внешнего минимума можно воспользоваться методом одномерной минимизации.\n",
    "\n",
    "В таблице ниже приведены две группы данных, к которым необходимо применить описанный подход.\n",
    "Единственным ли образом определяются неизвестные параметры?\n",
    "Изобразите данные на графике и постройте графики построенных моделей.\n",
    "\n",
    "```\n",
    "       t        y         y\n",
    "             Группа 1  Группа 2\n",
    " -----------------------------------\n",
    "     0.00     20.00     20.00\n",
    "     0.25     51.58     24.13\n",
    "     0.50     68.73     26.50\n",
    "     0.75     75.46     27.13\n",
    "     1.00     74.36     26.00\n",
    "     1.25     67.09     23.13\n",
    "     1.50     54.73     18.50\n",
    "     1.75     37.98     12.13\n",
    "     2.00     17.28      4.00\n",
    "```"
   ]
  },
  {
   "cell_type": "code",
   "execution_count": 234,
   "metadata": {},
   "outputs": [],
   "source": [
    "import numpy as np\n",
    "import pandas as pd\n",
    "import sklearn as sk\n",
    "import seaborn as sb\n",
    "import matplotlib.pyplot as plt"
   ]
  },
  {
   "cell_type": "code",
   "execution_count": 235,
   "metadata": {},
   "outputs": [],
   "source": [
    "m = 9\n",
    "\n",
    "x_test = np.arange(0, 2.01, 0.25, dtype = float)\n",
    "\n",
    "y_test1 = np.array([\n",
    "    20.00,\n",
    "    51.58,     \n",
    "    68.73,     \n",
    "    75.46,     \n",
    "    74.36,     \n",
    "    67.09,     \n",
    "    54.73,     \n",
    "    37.98,     \n",
    "    17.28,      \n",
    "])\n",
    "\n",
    "y_test2 = np.array([\n",
    "    20.00,\n",
    "    24.13,\n",
    "    26.50,\n",
    "    27.13,\n",
    "    26.00,\n",
    "    23.13,\n",
    "    18.50,\n",
    "    12.13,\n",
    "    4.00,\n",
    "])"
   ]
  },
  {
   "cell_type": "code",
   "execution_count": 236,
   "metadata": {},
   "outputs": [
    {
     "data": {
      "text/plain": [
       "[<matplotlib.lines.Line2D at 0x19ceb606488>]"
      ]
     },
     "execution_count": 236,
     "metadata": {},
     "output_type": "execute_result"
    },
    {
     "data": {
      "image/png": "[encoded data removed]",
      "text/plain": [
       "<Figure size 432x288 with 1 Axes>"
      ]
     },
     "metadata": {
      "needs_background": "light"
     },
     "output_type": "display_data"
    }
   ],
   "source": [
    "#Посмотрим распределение данных на графике\n",
    "plt.grid()\n",
    "plt.plot(x_test, y_test1, 'o')\n",
    "plt.plot(x_test, y_test2, 'o')"
   ]
  },
  {
   "cell_type": "code",
   "execution_count": 237,
   "metadata": {},
   "outputs": [],
   "source": [
    "#---------------------------------Все необходимые функции для метода разделимых наименьших квадратов----------------------------\n",
    "\n",
    "def f(_lambda, C, x):\n",
    "    return C[0] + C[1] * x + C[2] * (x ** 2) + C[3] * (np.e ** (_lambda * x))\n",
    "\n",
    "#Метод наименьших квадратов\n",
    "def get_lstsq(_lambda, y_test):\n",
    "    #Создаём матрицу\n",
    "    A =  np.ones((m, 4), dtype=float)\n",
    "    A[:, 1] = x_test\n",
    "    A[:, 2] = x_test ** 2\n",
    "    A[:, 3] = np.e ** (_lambda * x_test)\n",
    "    \n",
    "    #Используем метод наименьших квадратов\n",
    "    return np.linalg.lstsq(A, y_test)[0]\n",
    "\n",
    "#Вычисление функции, которую надо минимизировать по обеим выборкам\n",
    "def solve_1(_lambda):    \n",
    "    C = get_lstsq(_lambda, y_test1)\n",
    "\n",
    "    #Выячисляем значения функции на нашей выборке\n",
    "    y_approxymated = f(_lambda, C, x_test)\n",
    "\n",
    "    return np.sum((y_approxymated - y_test1) ** 2)\n",
    "\n",
    "def solve_2(_lambda):    \n",
    "    C = get_lstsq(_lambda, y_test2)\n",
    "\n",
    "    #Выячисляем значения функции на нашей выборке\n",
    "    y_approxymated = f(_lambda, C, x_test)\n",
    "\n",
    "    return np.sum((y_approxymated - y_test2) ** 2)"
   ]
  },
  {
   "cell_type": "code",
   "execution_count": 238,
   "metadata": {},
   "outputs": [
    {
     "name": "stderr",
     "output_type": "stream",
     "text": [
      "C:\\ProgramData\\Anaconda3\\lib\\site-packages\\ipykernel_launcher.py:15: FutureWarning: `rcond` parameter will change to the default of machine precision times ``max(M, N)`` where M and N are the input matrix dimensions.\n",
      "To use the future default and silence this warning we advise to pass `rcond=None`, to keep using the old, explicitly pass `rcond=-1`.\n",
      "  from ipykernel import kernelapp as app\n"
     ]
    },
    {
     "data": {
      "text/plain": [
       "[<matplotlib.lines.Line2D at 0x19ceb5aea88>]"
      ]
     },
     "execution_count": 238,
     "metadata": {},
     "output_type": "execute_result"
    },
    {
     "data": {
      "image/png": "[encoded data removed]",
      "text/plain": [
       "<Figure size 432x288 with 1 Axes>"
      ]
     },
     "metadata": {
      "needs_background": "light"
     },
     "output_type": "display_data"
    }
   ],
   "source": [
    "#Отобразим на графике значения функции, которую нам надо минимизировать в методе наименьших квадратов в зависимости от lambda\n",
    "x_graph = np.arange(-10.0, 10.0, .01, dtype = float)\n",
    "y_graph = []\n",
    "for x in x_graph:\n",
    "    y_graph.append(solve_1(x))\n",
    "    \n",
    "plt.grid()\n",
    "plt.plot(x_graph, y_graph)\n",
    "\n",
    "# Как можно заметить из графика -- существует минимум функции на определённом интервале.\n",
    "# Далее найдём этот минимум методом одномерной оптимизации.\n",
    "#"
   ]
  },
  {
   "cell_type": "code",
   "execution_count": 239,
   "metadata": {},
   "outputs": [
    {
     "name": "stderr",
     "output_type": "stream",
     "text": [
      "C:\\ProgramData\\Anaconda3\\lib\\site-packages\\ipykernel_launcher.py:15: FutureWarning: `rcond` parameter will change to the default of machine precision times ``max(M, N)`` where M and N are the input matrix dimensions.\n",
      "To use the future default and silence this warning we advise to pass `rcond=None`, to keep using the old, explicitly pass `rcond=-1`.\n",
      "  from ipykernel import kernelapp as app\n"
     ]
    },
    {
     "data": {
      "text/plain": [
       "[<matplotlib.lines.Line2D at 0x19cec7c4ac8>]"
      ]
     },
     "execution_count": 239,
     "metadata": {},
     "output_type": "execute_result"
    },
    {
     "data": {
      "image/png": "[encoded data removed]",
      "text/plain": [
       "<Figure size 432x288 with 1 Axes>"
      ]
     },
     "metadata": {
      "needs_background": "light"
     },
     "output_type": "display_data"
    }
   ],
   "source": [
    "from scipy.optimize import minimize_scalar\n",
    "\n",
    "_lambda = minimize_scalar(solve_1, bounds=[-10, 10], method='bounded')['x']\n",
    "\n",
    "x_valid1 = np.arange(0, 2.01, 0.01, dtype = float)\n",
    "C_result = get_lstsq(_lambda, y_test1)\n",
    "y_valid1 = f(_lambda, C_result, x_valid)\n",
    "\n",
    "#Отобразим саму выборку и аппроксимацию выборки на графике \n",
    "plt.grid()\n",
    "plt.plot(x_valid1, y_valid1)\n",
    "plt.plot(x_test, y_test1, 'o')"
   ]
  },
  {
   "cell_type": "code",
   "execution_count": 240,
   "metadata": {},
   "outputs": [
    {
     "name": "stderr",
     "output_type": "stream",
     "text": [
      "C:\\ProgramData\\Anaconda3\\lib\\site-packages\\ipykernel_launcher.py:15: FutureWarning: `rcond` parameter will change to the default of machine precision times ``max(M, N)`` where M and N are the input matrix dimensions.\n",
      "To use the future default and silence this warning we advise to pass `rcond=None`, to keep using the old, explicitly pass `rcond=-1`.\n",
      "  from ipykernel import kernelapp as app\n"
     ]
    },
    {
     "data": {
      "text/plain": [
       "[<matplotlib.lines.Line2D at 0x19ce9a9cfc8>]"
      ]
     },
     "execution_count": 240,
     "metadata": {},
     "output_type": "execute_result"
    },
    {
     "data": {
      "image/png": "[encoded data removed]",
      "text/plain": [
       "<Figure size 432x288 with 1 Axes>"
      ]
     },
     "metadata": {
      "needs_background": "light"
     },
     "output_type": "display_data"
    }
   ],
   "source": [
    "#Отобразим на графике значения функции, которую нам надо минимизировать в методе наименьших квадратов в зависимости от lambda(выборка 2)\n",
    "x_graph = np.arange(-100, 10, .1, dtype = float)\n",
    "y_graph = []\n",
    "for x in x_graph:\n",
    "    y_graph.append(solve_2(x))\n",
    "    \n",
    "plt.plot(x_graph, y_graph)"
   ]
  },
  {
   "cell_type": "code",
   "execution_count": 241,
   "metadata": {},
   "outputs": [],
   "source": [
    "# Как можно заметить, функция бесконечно возрастсает на отрезке (-inf; что-то, что я не посчитал(вроде не бы не так важно)).\n",
    "# Тогда возьмём за _lambda -100, весомого улучшения аппрокисмации не будет.\n",
    "#"
   ]
  },
  {
   "cell_type": "code",
   "execution_count": 242,
   "metadata": {},
   "outputs": [
    {
     "name": "stderr",
     "output_type": "stream",
     "text": [
      "C:\\ProgramData\\Anaconda3\\lib\\site-packages\\ipykernel_launcher.py:15: FutureWarning: `rcond` parameter will change to the default of machine precision times ``max(M, N)`` where M and N are the input matrix dimensions.\n",
      "To use the future default and silence this warning we advise to pass `rcond=None`, to keep using the old, explicitly pass `rcond=-1`.\n",
      "  from ipykernel import kernelapp as app\n"
     ]
    },
    {
     "data": {
      "text/plain": [
       "[<matplotlib.lines.Line2D at 0x19ceb458f48>]"
      ]
     },
     "execution_count": 242,
     "metadata": {},
     "output_type": "execute_result"
    },
    {
     "data": {
      "image/png": "[encoded data removed]",
      "text/plain": [
       "<Figure size 432x288 with 1 Axes>"
      ]
     },
     "metadata": {
      "needs_background": "light"
     },
     "output_type": "display_data"
    }
   ],
   "source": [
    "_lambda = -100\n",
    "\n",
    "x_valid2 = np.arange(0, 2.01, 0.01, dtype = float)\n",
    "C_result = get_lstsq(_lambda, y_test2)\n",
    "y_valid2 = f(_lambda, C_result, x_valid)\n",
    "\n",
    "#Теперь отобразим на графике обе выборки и их аппроксимации\n",
    "plt.grid()\n",
    "plt.plot(x_valid1, y_valid1)\n",
    "plt.plot(x_test, y_test1, 'o')\n",
    "plt.plot(x_valid2, y_valid2)\n",
    "plt.plot(x_test, y_test2, 'o')"
   ]
  },
  {
   "cell_type": "code",
   "execution_count": null,
   "metadata": {},
   "outputs": [],
   "source": [
    "# В первой функции минимум определяется единственным образом, т.к. у внешней функции существет определённый минимум.\n",
    "# Во второй функции ситуация изменилась, внешняя функция возрастает на промежутке (-inf; x)\n",
    "# и точный минимум найти невозможно, можно лишь найти приближение, что мы и сделали."
   ]
  }
 ],
 "metadata": {
  "kernelspec": {
   "display_name": "Python 3",
   "language": "python",
   "name": "python3"
  },
  "language_info": {
   "codemirror_mode": {
    "name": "ipython",
    "version": 3
   },
   "file_extension": ".py",
   "mimetype": "text/x-python",
   "name": "python",
   "nbconvert_exporter": "python",
   "pygments_lexer": "ipython3",
   "version": "3.7.6"
  }
 },
 "nbformat": 4,
 "nbformat_minor": 4
}
