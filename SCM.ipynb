{
 "cells": [
  {
   "cell_type": "code",
   "execution_count": 8,
   "metadata": {},
   "outputs": [],
   "source": [
    "import numpy as np\n",
    "import pandas as pd\n",
    "import sklearn as sk\n",
    "import seaborn as sb\n",
    "import matplotlib.pyplot as plt"
   ]
  },
  {
   "cell_type": "code",
   "execution_count": 82,
   "metadata": {},
   "outputs": [],
   "source": [
    "m = 9\n",
    "\n",
    "x_test = np.arange(0, 2.01, 0.25, dtype = float)\n",
    "\n",
    "y_test1 = np.array([\n",
    "    20.00,\n",
    "    51.58,     \n",
    "    68.73,     \n",
    "    75.46,     \n",
    "    74.36,     \n",
    "    67.09,     \n",
    "    54.73,     \n",
    "    37.98,     \n",
    "    17.28,      \n",
    "])\n",
    "\n",
    "y_test2 = np.array([\n",
    "    20.00,\n",
    "    24.13,\n",
    "    26.50,\n",
    "    27.13,\n",
    "    26.00,\n",
    "    23.13,\n",
    "    18.50,\n",
    "    12.13,\n",
    "    4.00,\n",
    "])"
   ]
  },
  {
   "cell_type": "code",
   "execution_count": 16,
   "metadata": {},
   "outputs": [
    {
     "data": {
      "text/plain": [
       "[<matplotlib.lines.Line2D at 0x19ce97720c8>]"
      ]
     },
     "execution_count": 16,
     "metadata": {},
     "output_type": "execute_result"
    },
    {
     "data": {
      "image/png": "[encoded data removed]",
      "text/plain": [
       "<Figure size 432x288 with 1 Axes>"
      ]
     },
     "metadata": {
      "needs_background": "light"
     },
     "output_type": "display_data"
    }
   ],
   "source": [
    "#Посмотрим распределение данных на графике\n",
    "plt.grid()\n",
    "plt.plot(x, y1, 'o')\n",
    "plt.plot(x, y2, 'o')"
   ]
  },
  {
   "cell_type": "code",
   "execution_count": 174,
   "metadata": {},
   "outputs": [
    {
     "name": "stdout",
     "output_type": "stream",
     "text": [
      "-1.752879993512172\n"
     ]
    },
    {
     "name": "stderr",
     "output_type": "stream",
     "text": [
      "C:\\ProgramData\\Anaconda3\\lib\\site-packages\\ipykernel_launcher.py:14: FutureWarning: `rcond` parameter will change to the default of machine precision times ``max(M, N)`` where M and N are the input matrix dimensions.\n",
      "To use the future default and silence this warning we advise to pass `rcond=None`, to keep using the old, explicitly pass `rcond=-1`.\n",
      "  \n"
     ]
    }
   ],
   "source": [
    "from scipy.optimize import minimize_scalar\n",
    "\n",
    "def f(_lambda, C, x):\n",
    "    return C[0] + C[1] * x + C[2] * (x ** 2) + C[3] * (np.e ** (_lambda * x))\n",
    "\n",
    "def solve_1(_lambda):\n",
    "    #Создаём матрицу\n",
    "    A =  np.ones((m, 4), dtype=float)\n",
    "    A[:, 1] = x_test\n",
    "    A[:, 2] = x_test ** 2\n",
    "    A[:, 3] = np.e ** (_lambda * x_test)\n",
    "    \n",
    "    #Используем метод наименьших квадратов\n",
    "    C = np.linalg.lstsq(A, y_test1)[0]\n",
    "    \n",
    "    y_approxymated = f(_lambda, C, x_test)\n",
    "    \n",
    "    return np.sum((y_approxymated - y_test1) ** 2)\n",
    "\n",
    "\n",
    "def solve_2(_lambda):\n",
    "    #Создаём матрицу\n",
    "    A =  np.ones((m, 4), dtype=float)\n",
    "    A[:, 1] = x_test\n",
    "    A[:, 2] = x_test ** 2\n",
    "    A[:, 3] = np.e ** (_lambda * x_test)\n",
    "    \n",
    "    #Используем метод наименьших квадратов\n",
    "    C = np.linalg.lstsq(A, y_test2)[0]\n",
    "    \n",
    "    y_approxymated = f(_lambda, C, x_test)\n",
    "    \n",
    "    return np.sum((y_approxymated - y_test2) ** 2)\n",
    "\n",
    "_lambda = minimize_scalar(solve_1, bounds=[-10, 10], method='bounded')['x']\n",
    "\n"
   ]
  },
  {
   "cell_type": "code",
   "execution_count": null,
   "metadata": {},
   "outputs": [],
   "source": []
  },
  {
   "cell_type": "code",
   "execution_count": null,
   "metadata": {},
   "outputs": [],
   "source": []
  }
 ],
 "metadata": {
  "kernelspec": {
   "display_name": "Python 3",
   "language": "python",
   "name": "python3"
  },
  "language_info": {
   "codemirror_mode": {
    "name": "ipython",
    "version": 3
   },
   "file_extension": ".py",
   "mimetype": "text/x-python",
   "name": "python",
   "nbconvert_exporter": "python",
   "pygments_lexer": "ipython3",
   "version": "3.7.6"
  }
 },
 "nbformat": 4,
 "nbformat_minor": 4
}
